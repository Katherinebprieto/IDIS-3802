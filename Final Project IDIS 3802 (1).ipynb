{
 "cells": [
  {
   "cell_type": "markdown",
   "id": "38212d72",
   "metadata": {},
   "source": [
    "<center> \n",
    "<b>Dataset Description\n",
    "</center>\n",
    "    \n",
    "The following dataset was obtained by the UC Irvine Machine Learning Repository. The dataset contains a total of 76 attributes from the Cleaveland database that aims to predict the presense of heart disease in patients. We narrow down our attributes to 14 and perform exploratory analysis on on the following variables. "
   ]
  },
  {
   "cell_type": "markdown",
   "id": "632c4a6a",
   "metadata": {},
   "source": [
    "| Variable | Description |\n",
    "| :- | :- |\n",
    "| age | age in years. |\n",
    "| sex | 1 if male, 0 if female. |\n",
    "| cp | chest pain type, (1 if typical angina, 2 if atypical angina, 3 if non-anginal pain, and 4 if asymptomatic). |\n",
    "| trestbps | resting blood pressure (in mm Hg on admission to the hospital). |\n",
    "| chol | serum cholestoral in mg/dl. |\n",
    "| fbs | fasting blood sugar > 120 mg/dl, 1 = true; 0 = false. |\n",
    "| restecg | resting electrocardiographic results. |\n",
    "| thalach | maximum heart rate achieved. |\n",
    "| exang | exercise induced angina, 1 = yes; 0 = no. |\n",
    "| oldpeak | ST depression induced by exercise relative to rest. |\n",
    "| slope | the slope of the peak exercise ST segment, (1 upsloping, 2 flat, and 3 downsloping). |\n",
    "| ca | number of major vessels 0-3 colored by flourosopy. |\n",
    "| thal | 3 = normal; 6 = fixed defect; 7 = reversable defect. |\n",
    "| target | diganosis of heart disease, 0 if < 50% diameter narrowing in other words no heart disease, 1 if >50% diameter narrowing. |\n"
   ]
  },
  {
   "cell_type": "markdown",
   "id": "cc2d4feb",
   "metadata": {},
   "source": [
    "<center> \n",
    "<b>Data Cleaning/Preparation Process\n",
    "</center>"
   ]
  },
  {
   "cell_type": "markdown",
   "id": "8b9cedf8",
   "metadata": {},
   "source": [
    "Renaming columns, importing data, and data assignment:"
   ]
  },
  {
   "cell_type": "code",
   "execution_count": 3,
   "id": "8ceffd77",
   "metadata": {},
   "outputs": [],
   "source": [
    "import pandas as pd\n",
    "import numpy as np\n",
    "from matplotlib import pyplot as plt\n",
    "import seaborn as sns\n",
    "import warnings"
   ]
  },
  {
   "cell_type": "code",
   "execution_count": 4,
   "id": "19b31e56",
   "metadata": {},
   "outputs": [],
   "source": [
    "# Ignoring warnings\n",
    "warnings.filterwarnings('ignore')"
   ]
  },
  {
   "cell_type": "code",
   "execution_count": 5,
   "id": "ce8a08c8",
   "metadata": {},
   "outputs": [],
   "source": [
    "heart = pd.read_csv('heart.csv')"
   ]
  },
  {
   "cell_type": "code",
   "execution_count": 6,
   "id": "e2cfe1df",
   "metadata": {},
   "outputs": [
    {
     "data": {
      "text/html": [
       "<div>\n",
       "<style scoped>\n",
       "    .dataframe tbody tr th:only-of-type {\n",
       "        vertical-align: middle;\n",
       "    }\n",
       "\n",
       "    .dataframe tbody tr th {\n",
       "        vertical-align: top;\n",
       "    }\n",
       "\n",
       "    .dataframe thead th {\n",
       "        text-align: right;\n",
       "    }\n",
       "</style>\n",
       "<table border=\"1\" class=\"dataframe\">\n",
       "  <thead>\n",
       "    <tr style=\"text-align: right;\">\n",
       "      <th></th>\n",
       "      <th>age</th>\n",
       "      <th>sex</th>\n",
       "      <th>cp</th>\n",
       "      <th>trestbps</th>\n",
       "      <th>chol</th>\n",
       "      <th>fbs</th>\n",
       "      <th>restecg</th>\n",
       "      <th>thalach</th>\n",
       "      <th>exang</th>\n",
       "      <th>oldpeak</th>\n",
       "      <th>slope</th>\n",
       "      <th>ca</th>\n",
       "      <th>thal</th>\n",
       "      <th>target</th>\n",
       "    </tr>\n",
       "  </thead>\n",
       "  <tbody>\n",
       "    <tr>\n",
       "      <th>0</th>\n",
       "      <td>63</td>\n",
       "      <td>1</td>\n",
       "      <td>3</td>\n",
       "      <td>145</td>\n",
       "      <td>233</td>\n",
       "      <td>1</td>\n",
       "      <td>0</td>\n",
       "      <td>150</td>\n",
       "      <td>0</td>\n",
       "      <td>2.3</td>\n",
       "      <td>0</td>\n",
       "      <td>0</td>\n",
       "      <td>1</td>\n",
       "      <td>1</td>\n",
       "    </tr>\n",
       "    <tr>\n",
       "      <th>1</th>\n",
       "      <td>37</td>\n",
       "      <td>1</td>\n",
       "      <td>2</td>\n",
       "      <td>130</td>\n",
       "      <td>250</td>\n",
       "      <td>0</td>\n",
       "      <td>1</td>\n",
       "      <td>187</td>\n",
       "      <td>0</td>\n",
       "      <td>3.5</td>\n",
       "      <td>0</td>\n",
       "      <td>0</td>\n",
       "      <td>2</td>\n",
       "      <td>1</td>\n",
       "    </tr>\n",
       "    <tr>\n",
       "      <th>2</th>\n",
       "      <td>41</td>\n",
       "      <td>0</td>\n",
       "      <td>1</td>\n",
       "      <td>130</td>\n",
       "      <td>204</td>\n",
       "      <td>0</td>\n",
       "      <td>0</td>\n",
       "      <td>172</td>\n",
       "      <td>0</td>\n",
       "      <td>1.4</td>\n",
       "      <td>2</td>\n",
       "      <td>0</td>\n",
       "      <td>2</td>\n",
       "      <td>1</td>\n",
       "    </tr>\n",
       "    <tr>\n",
       "      <th>3</th>\n",
       "      <td>56</td>\n",
       "      <td>1</td>\n",
       "      <td>1</td>\n",
       "      <td>120</td>\n",
       "      <td>236</td>\n",
       "      <td>0</td>\n",
       "      <td>1</td>\n",
       "      <td>178</td>\n",
       "      <td>0</td>\n",
       "      <td>0.8</td>\n",
       "      <td>2</td>\n",
       "      <td>0</td>\n",
       "      <td>2</td>\n",
       "      <td>1</td>\n",
       "    </tr>\n",
       "    <tr>\n",
       "      <th>4</th>\n",
       "      <td>57</td>\n",
       "      <td>0</td>\n",
       "      <td>0</td>\n",
       "      <td>120</td>\n",
       "      <td>354</td>\n",
       "      <td>0</td>\n",
       "      <td>1</td>\n",
       "      <td>163</td>\n",
       "      <td>1</td>\n",
       "      <td>0.6</td>\n",
       "      <td>2</td>\n",
       "      <td>0</td>\n",
       "      <td>2</td>\n",
       "      <td>1</td>\n",
       "    </tr>\n",
       "  </tbody>\n",
       "</table>\n",
       "</div>"
      ],
      "text/plain": [
       "   age  sex  cp  trestbps  chol  fbs  restecg  thalach  exang  oldpeak  slope  \\\n",
       "0   63    1   3       145   233    1        0      150      0      2.3      0   \n",
       "1   37    1   2       130   250    0        1      187      0      3.5      0   \n",
       "2   41    0   1       130   204    0        0      172      0      1.4      2   \n",
       "3   56    1   1       120   236    0        1      178      0      0.8      2   \n",
       "4   57    0   0       120   354    0        1      163      1      0.6      2   \n",
       "\n",
       "   ca  thal  target  \n",
       "0   0     1       1  \n",
       "1   0     2       1  \n",
       "2   0     2       1  \n",
       "3   0     2       1  \n",
       "4   0     2       1  "
      ]
     },
     "execution_count": 6,
     "metadata": {},
     "output_type": "execute_result"
    }
   ],
   "source": [
    "# Visualizing data for cleanup\n",
    "heart.head()"
   ]
  },
  {
   "cell_type": "code",
   "execution_count": 7,
   "id": "bbffe7f7",
   "metadata": {},
   "outputs": [
    {
     "name": "stdout",
     "output_type": "stream",
     "text": [
      "<class 'pandas.core.frame.DataFrame'>\n",
      "RangeIndex: 303 entries, 0 to 302\n",
      "Data columns (total 14 columns):\n",
      " #   Column    Non-Null Count  Dtype  \n",
      "---  ------    --------------  -----  \n",
      " 0   age       303 non-null    int64  \n",
      " 1   sex       303 non-null    int64  \n",
      " 2   cp        303 non-null    int64  \n",
      " 3   trestbps  303 non-null    int64  \n",
      " 4   chol      303 non-null    int64  \n",
      " 5   fbs       303 non-null    int64  \n",
      " 6   restecg   303 non-null    int64  \n",
      " 7   thalach   303 non-null    int64  \n",
      " 8   exang     303 non-null    int64  \n",
      " 9   oldpeak   303 non-null    float64\n",
      " 10  slope     303 non-null    int64  \n",
      " 11  ca        303 non-null    int64  \n",
      " 12  thal      303 non-null    int64  \n",
      " 13  target    303 non-null    int64  \n",
      "dtypes: float64(1), int64(13)\n",
      "memory usage: 33.3 KB\n"
     ]
    }
   ],
   "source": [
    "heart.info()"
   ]
  },
  {
   "cell_type": "markdown",
   "id": "e9a1bbdd",
   "metadata": {},
   "source": [
    "In the figure above, we can see that the dataset contains 303 entries and does not contain any null values. We see this as each row represents a different variables and we can indentify that each column has \"non-null\" next to the number of entries. We will further verify these findings by using the isna() method. This method allows us to return a boolean object indicating whether or not theere are missing values in our dataframe. "
   ]
  },
  {
   "cell_type": "code",
   "execution_count": 8,
   "id": "e0b0741a",
   "metadata": {},
   "outputs": [
    {
     "data": {
      "text/plain": [
       "age         0\n",
       "sex         0\n",
       "cp          0\n",
       "trestbps    0\n",
       "chol        0\n",
       "fbs         0\n",
       "restecg     0\n",
       "thalach     0\n",
       "exang       0\n",
       "oldpeak     0\n",
       "slope       0\n",
       "ca          0\n",
       "thal        0\n",
       "target      0\n",
       "dtype: int64"
      ]
     },
     "execution_count": 8,
     "metadata": {},
     "output_type": "execute_result"
    }
   ],
   "source": [
    "# Verifying is NA attributes in our dataset\n",
    "heart.isna().sum()"
   ]
  },
  {
   "cell_type": "markdown",
   "id": "6fe28193",
   "metadata": {},
   "source": [
    "To make our dataset understandable to the public we will reclassify some of the columns as its hard to discern what each variable measures. We will specifically target cp, trestbps, fbs, ca, chol, target, and sex.  "
   ]
  },
  {
   "cell_type": "code",
   "execution_count": 9,
   "id": "29d6de57",
   "metadata": {},
   "outputs": [],
   "source": [
    "heart = heart.rename(columns={\"cp\": \"chest_pain\", \n",
    "                              \"trestbps\": \"blood_pressure\", \n",
    "                              \"fbs\": \"blood_sugar\", \n",
    "                              \"ca\": \"vessels\", \n",
    "                              \"chol\": \"cholesterol\"})"
   ]
  },
  {
   "cell_type": "code",
   "execution_count": 10,
   "id": "95cee5bf",
   "metadata": {},
   "outputs": [],
   "source": [
    "# Creating a new column names health_status\n",
    "heart['health_status'] = heart['target']"
   ]
  },
  {
   "cell_type": "code",
   "execution_count": 11,
   "id": "93fb87a6",
   "metadata": {},
   "outputs": [],
   "source": [
    "# Altering health_status to be able to identify sick and healthy patients.\n",
    "heart['health_status'] = [\"healthy\" if x == 0 else \"sick\" for x in heart['health_status']]"
   ]
  },
  {
   "cell_type": "code",
   "execution_count": 12,
   "id": "3653b287",
   "metadata": {},
   "outputs": [],
   "source": [
    "heart['gender'] = heart['sex']"
   ]
  },
  {
   "cell_type": "code",
   "execution_count": 13,
   "id": "27a58a35",
   "metadata": {},
   "outputs": [
    {
     "data": {
      "text/html": [
       "<div>\n",
       "<style scoped>\n",
       "    .dataframe tbody tr th:only-of-type {\n",
       "        vertical-align: middle;\n",
       "    }\n",
       "\n",
       "    .dataframe tbody tr th {\n",
       "        vertical-align: top;\n",
       "    }\n",
       "\n",
       "    .dataframe thead th {\n",
       "        text-align: right;\n",
       "    }\n",
       "</style>\n",
       "<table border=\"1\" class=\"dataframe\">\n",
       "  <thead>\n",
       "    <tr style=\"text-align: right;\">\n",
       "      <th></th>\n",
       "      <th>age</th>\n",
       "      <th>sex</th>\n",
       "      <th>chest_pain</th>\n",
       "      <th>blood_pressure</th>\n",
       "      <th>cholesterol</th>\n",
       "      <th>blood_sugar</th>\n",
       "      <th>restecg</th>\n",
       "      <th>thalach</th>\n",
       "      <th>exang</th>\n",
       "      <th>oldpeak</th>\n",
       "      <th>slope</th>\n",
       "      <th>vessels</th>\n",
       "      <th>thal</th>\n",
       "      <th>target</th>\n",
       "      <th>health_status</th>\n",
       "      <th>gender</th>\n",
       "    </tr>\n",
       "  </thead>\n",
       "  <tbody>\n",
       "    <tr>\n",
       "      <th>0</th>\n",
       "      <td>63</td>\n",
       "      <td>1</td>\n",
       "      <td>3</td>\n",
       "      <td>145</td>\n",
       "      <td>233</td>\n",
       "      <td>1</td>\n",
       "      <td>0</td>\n",
       "      <td>150</td>\n",
       "      <td>0</td>\n",
       "      <td>2.3</td>\n",
       "      <td>0</td>\n",
       "      <td>0</td>\n",
       "      <td>1</td>\n",
       "      <td>1</td>\n",
       "      <td>sick</td>\n",
       "      <td>1</td>\n",
       "    </tr>\n",
       "    <tr>\n",
       "      <th>1</th>\n",
       "      <td>37</td>\n",
       "      <td>1</td>\n",
       "      <td>2</td>\n",
       "      <td>130</td>\n",
       "      <td>250</td>\n",
       "      <td>0</td>\n",
       "      <td>1</td>\n",
       "      <td>187</td>\n",
       "      <td>0</td>\n",
       "      <td>3.5</td>\n",
       "      <td>0</td>\n",
       "      <td>0</td>\n",
       "      <td>2</td>\n",
       "      <td>1</td>\n",
       "      <td>sick</td>\n",
       "      <td>1</td>\n",
       "    </tr>\n",
       "    <tr>\n",
       "      <th>2</th>\n",
       "      <td>41</td>\n",
       "      <td>0</td>\n",
       "      <td>1</td>\n",
       "      <td>130</td>\n",
       "      <td>204</td>\n",
       "      <td>0</td>\n",
       "      <td>0</td>\n",
       "      <td>172</td>\n",
       "      <td>0</td>\n",
       "      <td>1.4</td>\n",
       "      <td>2</td>\n",
       "      <td>0</td>\n",
       "      <td>2</td>\n",
       "      <td>1</td>\n",
       "      <td>sick</td>\n",
       "      <td>0</td>\n",
       "    </tr>\n",
       "    <tr>\n",
       "      <th>3</th>\n",
       "      <td>56</td>\n",
       "      <td>1</td>\n",
       "      <td>1</td>\n",
       "      <td>120</td>\n",
       "      <td>236</td>\n",
       "      <td>0</td>\n",
       "      <td>1</td>\n",
       "      <td>178</td>\n",
       "      <td>0</td>\n",
       "      <td>0.8</td>\n",
       "      <td>2</td>\n",
       "      <td>0</td>\n",
       "      <td>2</td>\n",
       "      <td>1</td>\n",
       "      <td>sick</td>\n",
       "      <td>1</td>\n",
       "    </tr>\n",
       "    <tr>\n",
       "      <th>4</th>\n",
       "      <td>57</td>\n",
       "      <td>0</td>\n",
       "      <td>0</td>\n",
       "      <td>120</td>\n",
       "      <td>354</td>\n",
       "      <td>0</td>\n",
       "      <td>1</td>\n",
       "      <td>163</td>\n",
       "      <td>1</td>\n",
       "      <td>0.6</td>\n",
       "      <td>2</td>\n",
       "      <td>0</td>\n",
       "      <td>2</td>\n",
       "      <td>1</td>\n",
       "      <td>sick</td>\n",
       "      <td>0</td>\n",
       "    </tr>\n",
       "  </tbody>\n",
       "</table>\n",
       "</div>"
      ],
      "text/plain": [
       "   age  sex  chest_pain  blood_pressure  cholesterol  blood_sugar  restecg  \\\n",
       "0   63    1           3             145          233            1        0   \n",
       "1   37    1           2             130          250            0        1   \n",
       "2   41    0           1             130          204            0        0   \n",
       "3   56    1           1             120          236            0        1   \n",
       "4   57    0           0             120          354            0        1   \n",
       "\n",
       "   thalach  exang  oldpeak  slope  vessels  thal  target health_status  gender  \n",
       "0      150      0      2.3      0        0     1       1          sick       1  \n",
       "1      187      0      3.5      0        0     2       1          sick       1  \n",
       "2      172      0      1.4      2        0     2       1          sick       0  \n",
       "3      178      0      0.8      2        0     2       1          sick       1  \n",
       "4      163      1      0.6      2        0     2       1          sick       0  "
      ]
     },
     "execution_count": 13,
     "metadata": {},
     "output_type": "execute_result"
    }
   ],
   "source": [
    "heart.head()"
   ]
  },
  {
   "cell_type": "code",
   "execution_count": 14,
   "id": "edbc1acb",
   "metadata": {},
   "outputs": [
    {
     "data": {
      "text/plain": [
       "(303, 16)"
      ]
     },
     "execution_count": 14,
     "metadata": {},
     "output_type": "execute_result"
    }
   ],
   "source": [
    "heart.shape"
   ]
  },
  {
   "cell_type": "code",
   "execution_count": 15,
   "id": "9f9024bf",
   "metadata": {},
   "outputs": [
    {
     "data": {
      "text/html": [
       "<div>\n",
       "<style scoped>\n",
       "    .dataframe tbody tr th:only-of-type {\n",
       "        vertical-align: middle;\n",
       "    }\n",
       "\n",
       "    .dataframe tbody tr th {\n",
       "        vertical-align: top;\n",
       "    }\n",
       "\n",
       "    .dataframe thead th {\n",
       "        text-align: right;\n",
       "    }\n",
       "</style>\n",
       "<table border=\"1\" class=\"dataframe\">\n",
       "  <thead>\n",
       "    <tr style=\"text-align: right;\">\n",
       "      <th></th>\n",
       "      <th>age</th>\n",
       "      <th>sex</th>\n",
       "      <th>chest_pain</th>\n",
       "      <th>blood_pressure</th>\n",
       "      <th>cholesterol</th>\n",
       "      <th>blood_sugar</th>\n",
       "      <th>restecg</th>\n",
       "      <th>thalach</th>\n",
       "      <th>exang</th>\n",
       "      <th>oldpeak</th>\n",
       "      <th>slope</th>\n",
       "      <th>vessels</th>\n",
       "      <th>thal</th>\n",
       "      <th>target</th>\n",
       "      <th>health_status</th>\n",
       "      <th>gender</th>\n",
       "    </tr>\n",
       "  </thead>\n",
       "  <tbody>\n",
       "    <tr>\n",
       "      <th>163</th>\n",
       "      <td>38</td>\n",
       "      <td>1</td>\n",
       "      <td>2</td>\n",
       "      <td>138</td>\n",
       "      <td>175</td>\n",
       "      <td>0</td>\n",
       "      <td>1</td>\n",
       "      <td>173</td>\n",
       "      <td>0</td>\n",
       "      <td>0.0</td>\n",
       "      <td>2</td>\n",
       "      <td>4</td>\n",
       "      <td>2</td>\n",
       "      <td>1</td>\n",
       "      <td>sick</td>\n",
       "      <td>1</td>\n",
       "    </tr>\n",
       "    <tr>\n",
       "      <th>164</th>\n",
       "      <td>38</td>\n",
       "      <td>1</td>\n",
       "      <td>2</td>\n",
       "      <td>138</td>\n",
       "      <td>175</td>\n",
       "      <td>0</td>\n",
       "      <td>1</td>\n",
       "      <td>173</td>\n",
       "      <td>0</td>\n",
       "      <td>0.0</td>\n",
       "      <td>2</td>\n",
       "      <td>4</td>\n",
       "      <td>2</td>\n",
       "      <td>1</td>\n",
       "      <td>sick</td>\n",
       "      <td>1</td>\n",
       "    </tr>\n",
       "  </tbody>\n",
       "</table>\n",
       "</div>"
      ],
      "text/plain": [
       "     age  sex  chest_pain  blood_pressure  cholesterol  blood_sugar  restecg  \\\n",
       "163   38    1           2             138          175            0        1   \n",
       "164   38    1           2             138          175            0        1   \n",
       "\n",
       "     thalach  exang  oldpeak  slope  vessels  thal  target health_status  \\\n",
       "163      173      0      0.0      2        4     2       1          sick   \n",
       "164      173      0      0.0      2        4     2       1          sick   \n",
       "\n",
       "     gender  \n",
       "163       1  \n",
       "164       1  "
      ]
     },
     "execution_count": 15,
     "metadata": {},
     "output_type": "execute_result"
    }
   ],
   "source": [
    "# Identifying duplicates\n",
    "heart[heart.duplicated(keep=False)]"
   ]
  },
  {
   "cell_type": "markdown",
   "id": "389cd109",
   "metadata": {},
   "source": [
    "In our dataset it seems like entry 163 and 164 are actually the same entry twice. In order to create a consistent and unbiased model we will remove the following entry."
   ]
  },
  {
   "cell_type": "code",
   "execution_count": 16,
   "id": "778378f1",
   "metadata": {},
   "outputs": [],
   "source": [
    "# Dropping the duplicated value\n",
    "heart = heart.drop_duplicates(keep='first')"
   ]
  },
  {
   "cell_type": "markdown",
   "id": "73595e94",
   "metadata": {},
   "source": [
    "We will conduct a preliminary analysis of gender, fasting blood sugar, exercise induced angina, and health status within our dataset by performing cumulative counts. "
   ]
  },
  {
   "cell_type": "code",
   "execution_count": 17,
   "id": "74649322",
   "metadata": {},
   "outputs": [
    {
     "data": {
      "text/plain": [
       "1    206\n",
       "0     96\n",
       "Name: sex, dtype: int64"
      ]
     },
     "execution_count": 17,
     "metadata": {},
     "output_type": "execute_result"
    }
   ],
   "source": [
    "heart['sex'].value_counts()"
   ]
  },
  {
   "cell_type": "markdown",
   "id": "489959d1",
   "metadata": {},
   "source": [
    "We have 207 men within our sample and 96 women."
   ]
  },
  {
   "cell_type": "code",
   "execution_count": 18,
   "id": "29346caa",
   "metadata": {},
   "outputs": [
    {
     "data": {
      "text/plain": [
       "0    257\n",
       "1     45\n",
       "Name: blood_sugar, dtype: int64"
      ]
     },
     "execution_count": 18,
     "metadata": {},
     "output_type": "execute_result"
    }
   ],
   "source": [
    "heart['blood_sugar'].value_counts()"
   ]
  },
  {
   "cell_type": "markdown",
   "id": "b332150e",
   "metadata": {},
   "source": [
    "Within our dataset we have 45 individuals who have greater than 120 milligrams per decilitre. Demonstrating that within our sample, 45 individuals have high blood sugar levels. "
   ]
  },
  {
   "cell_type": "code",
   "execution_count": 19,
   "id": "ea379314",
   "metadata": {},
   "outputs": [
    {
     "data": {
      "text/plain": [
       "0    203\n",
       "1     99\n",
       "Name: exang, dtype: int64"
      ]
     },
     "execution_count": 19,
     "metadata": {},
     "output_type": "execute_result"
    }
   ],
   "source": [
    "heart['exang'].value_counts()"
   ]
  },
  {
   "cell_type": "markdown",
   "id": "b5f8e1db",
   "metadata": {},
   "source": [
    "Within our dataset we have 99 individuals who experienced some form of chest pain caused by reduceed blood flow to the heart when exercising. In other words, 99 individuals who experienced an angina."
   ]
  },
  {
   "cell_type": "code",
   "execution_count": 20,
   "id": "4ca5c4ae",
   "metadata": {},
   "outputs": [
    {
     "data": {
      "text/plain": [
       "sick       164\n",
       "healthy    138\n",
       "Name: health_status, dtype: int64"
      ]
     },
     "execution_count": 20,
     "metadata": {},
     "output_type": "execute_result"
    }
   ],
   "source": [
    "heart['health_status'].value_counts()"
   ]
  },
  {
   "cell_type": "markdown",
   "id": "15a58030",
   "metadata": {},
   "source": [
    "Evaluating our health status variable we can seee that 165 individuals exhibit heart disease, while 138 have do not. This gives us a better understanding of the distribution amongst healthy and unhealthy individuals within our sample. "
   ]
  },
  {
   "cell_type": "markdown",
   "id": "08cf4a6e",
   "metadata": {},
   "source": [
    "# Insight 1: How do we create models with the greatest predictive power for patients with heart failure? Does distribution play an important role when fitting data in our model?"
   ]
  },
  {
   "cell_type": "markdown",
   "id": "267895bc",
   "metadata": {},
   "source": [
    "Distribution Plots:"
   ]
  },
  {
   "cell_type": "markdown",
   "id": "890fc37d",
   "metadata": {},
   "source": [
    "<b>Figure #1"
   ]
  },
  {
   "cell_type": "code",
   "execution_count": 21,
   "id": "d32af4e0",
   "metadata": {
    "scrolled": true
   },
   "outputs": [
    {
     "data": {
      "text/plain": [
       "array([[<AxesSubplot:title={'center':'age'}>,\n",
       "        <AxesSubplot:title={'center':'sex'}>,\n",
       "        <AxesSubplot:title={'center':'chest_pain'}>,\n",
       "        <AxesSubplot:title={'center':'blood_pressure'}>],\n",
       "       [<AxesSubplot:title={'center':'cholesterol'}>,\n",
       "        <AxesSubplot:title={'center':'blood_sugar'}>,\n",
       "        <AxesSubplot:title={'center':'restecg'}>,\n",
       "        <AxesSubplot:title={'center':'thalach'}>],\n",
       "       [<AxesSubplot:title={'center':'exang'}>,\n",
       "        <AxesSubplot:title={'center':'oldpeak'}>,\n",
       "        <AxesSubplot:title={'center':'slope'}>,\n",
       "        <AxesSubplot:title={'center':'vessels'}>],\n",
       "       [<AxesSubplot:title={'center':'thal'}>,\n",
       "        <AxesSubplot:title={'center':'target'}>,\n",
       "        <AxesSubplot:title={'center':'gender'}>, <AxesSubplot:>]],\n",
       "      dtype=object)"
      ]
     },
     "execution_count": 21,
     "metadata": {},
     "output_type": "execute_result"
    },
    {
     "data": {
      "image/png": "[encoded data removed]",
      "text/plain": [
       "<Figure size 1152x1440 with 16 Axes>"
      ]
     },
     "metadata": {
      "needs_background": "light"
     },
     "output_type": "display_data"
    }
   ],
   "source": [
    "heart.hist(figsize=(16, 20), xlabelsize = 8, ylabelsize=8, color='gray')"
   ]
  },
  {
   "cell_type": "markdown",
   "id": "e983de0c",
   "metadata": {},
   "source": [
    "<center> \n",
    "<b>Correlation heatmap\n",
    "</center>"
   ]
  },
  {
   "cell_type": "markdown",
   "id": "4ecef750",
   "metadata": {},
   "source": [
    "<b>Figure #2"
   ]
  },
  {
   "cell_type": "code",
   "execution_count": 22,
   "id": "6d7d6c70",
   "metadata": {},
   "outputs": [
    {
     "data": {
      "text/plain": [
       "<AxesSubplot:>"
      ]
     },
     "execution_count": 22,
     "metadata": {},
     "output_type": "execute_result"
    },
    {
     "data": {
      "image/png": "[encoded data removed]",
      "text/plain": [
       "<Figure size 1080x720 with 2 Axes>"
      ]
     },
     "metadata": {
      "needs_background": "light"
     },
     "output_type": "display_data"
    }
   ],
   "source": [
    "f, ax = plt.subplots(figsize=(15, 10))\n",
    "sns.heatmap(heart.corr(),annot=True,cmap='binary',linewidths=.5)"
   ]
  },
  {
   "cell_type": "markdown",
   "id": "46616688",
   "metadata": {},
   "source": [
    "<b> Snapshot of individual variables, creating grouped tables."
   ]
  },
  {
   "cell_type": "code",
   "execution_count": 23,
   "id": "fd35b00e",
   "metadata": {},
   "outputs": [
    {
     "data": {
      "text/plain": [
       "gender  health_status\n",
       "0       healthy           24\n",
       "        sick              72\n",
       "1       healthy          114\n",
       "        sick              92\n",
       "Name: gender, dtype: int64"
      ]
     },
     "execution_count": 23,
     "metadata": {},
     "output_type": "execute_result"
    }
   ],
   "source": [
    "heart.groupby(['gender', 'health_status'])['gender'].count()"
   ]
  },
  {
   "cell_type": "markdown",
   "id": "9b500d44",
   "metadata": {},
   "source": [
    "114 individuals in our sample who are men are considered healthy, 93 are considered sick and have heart disease. 24 individuals in our sample who are women are considered healthy, 72 of them are considered sick and have heart disease."
   ]
  },
  {
   "cell_type": "code",
   "execution_count": 24,
   "id": "c0686047",
   "metadata": {},
   "outputs": [
    {
     "name": "stdout",
     "output_type": "stream",
     "text": [
      "Proportion of women who are healthy: 25.0%.\n"
     ]
    }
   ],
   "source": [
    "print(f\"Proportion of women who are healthy: {24/(24+72) *100 }%.\")"
   ]
  },
  {
   "cell_type": "code",
   "execution_count": 25,
   "id": "9395c248",
   "metadata": {},
   "outputs": [
    {
     "name": "stdout",
     "output_type": "stream",
     "text": [
      "Proportion of men who are healthy: 55.072463768115945%.\n"
     ]
    }
   ],
   "source": [
    "print(f\"Proportion of men who are healthy: {114/(114+93) *100 }%.\")"
   ]
  },
  {
   "cell_type": "code",
   "execution_count": 26,
   "id": "1330f729",
   "metadata": {},
   "outputs": [
    {
     "data": {
      "text/plain": [
       "<AxesSubplot:xlabel='gender', ylabel='count'>"
      ]
     },
     "execution_count": 26,
     "metadata": {},
     "output_type": "execute_result"
    },
    {
     "data": {
      "image/png": "[encoded data removed]",
      "text/plain": [
       "<Figure size 432x288 with 1 Axes>"
      ]
     },
     "metadata": {
      "needs_background": "light"
     },
     "output_type": "display_data"
    }
   ],
   "source": [
    "sns.countplot(data=heart, x='gender', hue='health_status', color=\"gray\")\n"
   ]
  },
  {
   "cell_type": "markdown",
   "id": "0bbaedd9",
   "metadata": {},
   "source": [
    "<b> Distribution of heart diseease between categories of chest pain"
   ]
  },
  {
   "cell_type": "code",
   "execution_count": 27,
   "id": "84576880",
   "metadata": {},
   "outputs": [
    {
     "data": {
      "text/plain": [
       "<AxesSubplot:xlabel='chest_pain', ylabel='count'>"
      ]
     },
     "execution_count": 27,
     "metadata": {},
     "output_type": "execute_result"
    },
    {
     "data": {
      "image/png": "[encoded data removed]",
      "text/plain": [
       "<Figure size 432x288 with 1 Axes>"
      ]
     },
     "metadata": {
      "needs_background": "light"
     },
     "output_type": "display_data"
    }
   ],
   "source": [
    "sns.countplot(data=heart, x='chest_pain', hue='health_status', color='gray')\n"
   ]
  },
  {
   "cell_type": "code",
   "execution_count": 28,
   "id": "9a8146b0",
   "metadata": {},
   "outputs": [
    {
     "data": {
      "text/plain": [
       "0.432079591566407"
      ]
     },
     "execution_count": 28,
     "metadata": {},
     "output_type": "execute_result"
    }
   ],
   "source": [
    "heart['chest_pain'].corr(heart['target'])\n"
   ]
  },
  {
   "cell_type": "markdown",
   "id": "c7c600e3",
   "metadata": {},
   "source": [
    "<b> Heart disease amongst different categories of slope"
   ]
  },
  {
   "cell_type": "code",
   "execution_count": 29,
   "id": "a50720e4",
   "metadata": {},
   "outputs": [
    {
     "data": {
      "text/plain": [
       "<AxesSubplot:xlabel='slope', ylabel='count'>"
      ]
     },
     "execution_count": 29,
     "metadata": {},
     "output_type": "execute_result"
    },
    {
     "data": {
      "image/png": "[encoded data removed]",
      "text/plain": [
       "<Figure size 432x288 with 1 Axes>"
      ]
     },
     "metadata": {
      "needs_background": "light"
     },
     "output_type": "display_data"
    }
   ],
   "source": [
    "sns.countplot(data=heart, x='slope', hue='health_status', color = 'gray')\n"
   ]
  },
  {
   "cell_type": "code",
   "execution_count": 30,
   "id": "979b41cf",
   "metadata": {},
   "outputs": [
    {
     "data": {
      "text/plain": [
       "0.34393953248938663"
      ]
     },
     "execution_count": 30,
     "metadata": {},
     "output_type": "execute_result"
    }
   ],
   "source": [
    "heart['slope'].corr(heart['target'])\n"
   ]
  },
  {
   "cell_type": "markdown",
   "id": "e0f4823b",
   "metadata": {},
   "source": [
    "<b> Distribution of heart disease with our stress test variable"
   ]
  },
  {
   "cell_type": "code",
   "execution_count": 31,
   "id": "729c108c",
   "metadata": {},
   "outputs": [
    {
     "data": {
      "text/plain": [
       "<AxesSubplot:xlabel='thalach', ylabel='Density'>"
      ]
     },
     "execution_count": 31,
     "metadata": {},
     "output_type": "execute_result"
    },
    {
     "data": {
      "image/png": "[encoded data removed]",
      "text/plain": [
       "<Figure size 432x288 with 1 Axes>"
      ]
     },
     "metadata": {
      "needs_background": "light"
     },
     "output_type": "display_data"
    }
   ],
   "source": [
    "sns.distplot(heart['thalach'], color = 'gray')\n"
   ]
  },
  {
   "cell_type": "code",
   "execution_count": 32,
   "id": "0fed3bbb",
   "metadata": {},
   "outputs": [
    {
     "data": {
      "text/plain": [
       "<AxesSubplot:xlabel='thalach', ylabel='count'>"
      ]
     },
     "execution_count": 32,
     "metadata": {},
     "output_type": "execute_result"
    },
    {
     "data": {
      "image/png": "[encoded data removed]",
      "text/plain": [
       "<Figure size 1080x360 with 1 Axes>"
      ]
     },
     "metadata": {
      "needs_background": "light"
     },
     "output_type": "display_data"
    }
   ],
   "source": [
    "f, ax = plt.subplots(figsize=(15, 5))\n",
    "sns.countplot(data=heart, x=pd.cut(heart['thalach'], 10), hue='health_status', color = 'gray')"
   ]
  },
  {
   "cell_type": "markdown",
   "id": "5684a30a",
   "metadata": {},
   "source": [
    "In figure 1 we get a general idea of how our data is distributed. We can see that age group follows a normal distribution. While variables such as blood pressure, cholesterol, and blood peak are right skewed distributions. thalach, our stress test variable, is left skewed. Information gathered in figure 1 is pertinent when estimating the Regression as often the distribution is a big factor in creating an accurate model. For example, binary variables  take on the values of either 0 and 1. In our dataset, our sex variable follows this type of behavior and if we were to try an regress other independent variables onto this binary variable our results will not be accurate when using a linear model. Using a linear model will produce results outside of the bounds of 0 to 1 and simply would not make sense as 0 and 1 are variables that categorize whether an individual is male or female. A better model that would emulate this behavior of taking on values of 0 and 1 could be best modeled using a probit regression. In figure 2, we create a correlation plot amongst variables. We aim to identify strong relationships in order to create the best fitting model using machine learning techniques. We must ensure that the independent variables that we apply in our model have a correlation to our dependent variable in order to help determine if there is any predictive power in determining heart disease in patients. Our target is our variable interest in this model, and as we can see from figure 2, every independent variable has somewhat of a strong correlation to our target. Variables with a correlation with a lesser value of 0.2 can be categorized as being weakly correlated and we can attempt to drop these variables in the latter of our analysis when creating our regression machine learning model. For now, we will keep all variables and adjust as we go."
   ]
  },
  {
   "cell_type": "markdown",
   "id": "5a99df43",
   "metadata": {},
   "source": [
    "<b> Summary: </b>\n",
    "\n",
    "Our distribution of every variable demonstrates various patterns. We can see left and right skewness, data that follows a standard normal distribution, as well as data that takes on the values of either 0 and 1. Identifying these types of behavior will allow us to build models with greater accuracy.\n",
    "\n",
    "<b> Managerial Insight: </b>\n",
    "\n",
    "Identifying this type of behavior for every independent variable will allow us to build models with greater accuracy and precision. Ultimately, it will lead allow us to see which variables have the greatest influence in being able to predict heart disease in a patient. "
   ]
  },
  {
   "cell_type": "markdown",
   "id": "c32ec633",
   "metadata": {},
   "source": [
    "## Insight 2: Can we optimize using the KNN algorithm to produce higher accuracy score predictions in healthcare?"
   ]
  },
  {
   "cell_type": "markdown",
   "id": "4aa7a732",
   "metadata": {},
   "source": [
    "We will begin building our model for optimization by importing the relevant packages, as well as cleaning up our data because we had initially modified some of the binary variables into strings to create better graphics. In this section we will reverse some of the work and recreate our dummy variables. We then will apply the K-Nearest Neighbor Machine Learning algorithm to compute a base model. Then we will build onto this model in the latter of our report to derive the K value that will produce the highest accuracy score. The importance of these methods of optimization will ultimately allow us to see and be able to reproduce similar results across samples. These methods will help streamline future research as we will be able to apply similar models that fit future data and get just as good accuracy levels in predictibility if not better. "
   ]
  },
  {
   "cell_type": "markdown",
   "id": "979e4379",
   "metadata": {},
   "source": [
    "<b> K Nearest neighbors"
   ]
  },
  {
   "cell_type": "code",
   "execution_count": 33,
   "id": "adbfc0eb",
   "metadata": {},
   "outputs": [],
   "source": [
    "# Importing additional packages for machine learning models\n",
    "from sklearn.preprocessing import StandardScaler\n",
    "from sklearn.ensemble import RandomForestClassifier\n",
    "from sklearn.model_selection import train_test_split\n",
    "from sklearn.metrics import accuracy_score\n",
    "from sklearn.metrics import confusion_matrix\n",
    "from sklearn.linear_model import LogisticRegression\n",
    "from sklearn.neighbors import KNeighborsClassifier\n",
    "from sklearn.linear_model import LinearRegression\n",
    "from sklearn.naive_bayes import GaussianNB\n",
    "from sklearn.metrics import classification_report"
   ]
  },
  {
   "cell_type": "code",
   "execution_count": 34,
   "id": "084cb8b3",
   "metadata": {},
   "outputs": [],
   "source": [
    "# installing eli5 package for predictions\n",
    "# conda install -c conda-forge eli5\n",
    "import eli5\n",
    "from eli5.sklearn import PermutationImportance"
   ]
  },
  {
   "cell_type": "markdown",
   "id": "c1b52048",
   "metadata": {},
   "source": [
    "<b> Cleaning up data for ML model"
   ]
  },
  {
   "cell_type": "code",
   "execution_count": 35,
   "id": "354a5172",
   "metadata": {},
   "outputs": [],
   "source": [
    "heart = pd.read_csv('heart.csv')"
   ]
  },
  {
   "cell_type": "code",
   "execution_count": 36,
   "id": "0e7b6db6",
   "metadata": {},
   "outputs": [],
   "source": [
    "heart = heart.rename(columns={\"cp\": \"chest_pain\", \n",
    "                              \"trestbps\": \"blood_pressure\", \n",
    "                              \"fbs\": \"blood_sugar\", \n",
    "                              \"ca\": \"vessels\", \n",
    "                              \"chol\": \"cholesterol\"})"
   ]
  },
  {
   "cell_type": "code",
   "execution_count": 37,
   "id": "f7b8befe",
   "metadata": {},
   "outputs": [],
   "source": [
    "# Creating a new column names health_status\n",
    "heart['health_status'] = heart['target']"
   ]
  },
  {
   "cell_type": "code",
   "execution_count": 38,
   "id": "d04f36e9",
   "metadata": {},
   "outputs": [],
   "source": [
    "heart['gender'] = heart['sex']"
   ]
  },
  {
   "cell_type": "code",
   "execution_count": 39,
   "id": "ec93f0f4",
   "metadata": {},
   "outputs": [
    {
     "data": {
      "text/html": [
       "<div>\n",
       "<style scoped>\n",
       "    .dataframe tbody tr th:only-of-type {\n",
       "        vertical-align: middle;\n",
       "    }\n",
       "\n",
       "    .dataframe tbody tr th {\n",
       "        vertical-align: top;\n",
       "    }\n",
       "\n",
       "    .dataframe thead th {\n",
       "        text-align: right;\n",
       "    }\n",
       "</style>\n",
       "<table border=\"1\" class=\"dataframe\">\n",
       "  <thead>\n",
       "    <tr style=\"text-align: right;\">\n",
       "      <th></th>\n",
       "      <th>age</th>\n",
       "      <th>sex</th>\n",
       "      <th>chest_pain</th>\n",
       "      <th>blood_pressure</th>\n",
       "      <th>cholesterol</th>\n",
       "      <th>blood_sugar</th>\n",
       "      <th>restecg</th>\n",
       "      <th>thalach</th>\n",
       "      <th>exang</th>\n",
       "      <th>oldpeak</th>\n",
       "      <th>slope</th>\n",
       "      <th>vessels</th>\n",
       "      <th>thal</th>\n",
       "      <th>target</th>\n",
       "      <th>health_status</th>\n",
       "      <th>gender</th>\n",
       "    </tr>\n",
       "  </thead>\n",
       "  <tbody>\n",
       "    <tr>\n",
       "      <th>0</th>\n",
       "      <td>63</td>\n",
       "      <td>1</td>\n",
       "      <td>3</td>\n",
       "      <td>145</td>\n",
       "      <td>233</td>\n",
       "      <td>1</td>\n",
       "      <td>0</td>\n",
       "      <td>150</td>\n",
       "      <td>0</td>\n",
       "      <td>2.3</td>\n",
       "      <td>0</td>\n",
       "      <td>0</td>\n",
       "      <td>1</td>\n",
       "      <td>1</td>\n",
       "      <td>1</td>\n",
       "      <td>1</td>\n",
       "    </tr>\n",
       "    <tr>\n",
       "      <th>1</th>\n",
       "      <td>37</td>\n",
       "      <td>1</td>\n",
       "      <td>2</td>\n",
       "      <td>130</td>\n",
       "      <td>250</td>\n",
       "      <td>0</td>\n",
       "      <td>1</td>\n",
       "      <td>187</td>\n",
       "      <td>0</td>\n",
       "      <td>3.5</td>\n",
       "      <td>0</td>\n",
       "      <td>0</td>\n",
       "      <td>2</td>\n",
       "      <td>1</td>\n",
       "      <td>1</td>\n",
       "      <td>1</td>\n",
       "    </tr>\n",
       "    <tr>\n",
       "      <th>2</th>\n",
       "      <td>41</td>\n",
       "      <td>0</td>\n",
       "      <td>1</td>\n",
       "      <td>130</td>\n",
       "      <td>204</td>\n",
       "      <td>0</td>\n",
       "      <td>0</td>\n",
       "      <td>172</td>\n",
       "      <td>0</td>\n",
       "      <td>1.4</td>\n",
       "      <td>2</td>\n",
       "      <td>0</td>\n",
       "      <td>2</td>\n",
       "      <td>1</td>\n",
       "      <td>1</td>\n",
       "      <td>0</td>\n",
       "    </tr>\n",
       "    <tr>\n",
       "      <th>3</th>\n",
       "      <td>56</td>\n",
       "      <td>1</td>\n",
       "      <td>1</td>\n",
       "      <td>120</td>\n",
       "      <td>236</td>\n",
       "      <td>0</td>\n",
       "      <td>1</td>\n",
       "      <td>178</td>\n",
       "      <td>0</td>\n",
       "      <td>0.8</td>\n",
       "      <td>2</td>\n",
       "      <td>0</td>\n",
       "      <td>2</td>\n",
       "      <td>1</td>\n",
       "      <td>1</td>\n",
       "      <td>1</td>\n",
       "    </tr>\n",
       "    <tr>\n",
       "      <th>4</th>\n",
       "      <td>57</td>\n",
       "      <td>0</td>\n",
       "      <td>0</td>\n",
       "      <td>120</td>\n",
       "      <td>354</td>\n",
       "      <td>0</td>\n",
       "      <td>1</td>\n",
       "      <td>163</td>\n",
       "      <td>1</td>\n",
       "      <td>0.6</td>\n",
       "      <td>2</td>\n",
       "      <td>0</td>\n",
       "      <td>2</td>\n",
       "      <td>1</td>\n",
       "      <td>1</td>\n",
       "      <td>0</td>\n",
       "    </tr>\n",
       "  </tbody>\n",
       "</table>\n",
       "</div>"
      ],
      "text/plain": [
       "   age  sex  chest_pain  blood_pressure  cholesterol  blood_sugar  restecg  \\\n",
       "0   63    1           3             145          233            1        0   \n",
       "1   37    1           2             130          250            0        1   \n",
       "2   41    0           1             130          204            0        0   \n",
       "3   56    1           1             120          236            0        1   \n",
       "4   57    0           0             120          354            0        1   \n",
       "\n",
       "   thalach  exang  oldpeak  slope  vessels  thal  target  health_status  \\\n",
       "0      150      0      2.3      0        0     1       1              1   \n",
       "1      187      0      3.5      0        0     2       1              1   \n",
       "2      172      0      1.4      2        0     2       1              1   \n",
       "3      178      0      0.8      2        0     2       1              1   \n",
       "4      163      1      0.6      2        0     2       1              1   \n",
       "\n",
       "   gender  \n",
       "0       1  \n",
       "1       1  \n",
       "2       0  \n",
       "3       1  \n",
       "4       0  "
      ]
     },
     "execution_count": 39,
     "metadata": {},
     "output_type": "execute_result"
    }
   ],
   "source": [
    "# Monitoring changes\n",
    "heart.head()"
   ]
  },
  {
   "cell_type": "code",
   "execution_count": 40,
   "id": "0bc9aeb2",
   "metadata": {},
   "outputs": [],
   "source": [
    "# Scaling features and getting dummies for binary variables\n",
    "standardScaler = StandardScaler()\n",
    "columns_to_scale = ['age', 'blood_pressure', 'cholesterol', 'thalach', 'oldpeak']\n",
    "heart[columns_to_scale] = standardScaler.fit_transform(heart[columns_to_scale])"
   ]
  },
  {
   "cell_type": "code",
   "execution_count": 41,
   "id": "adf797c3",
   "metadata": {},
   "outputs": [],
   "source": [
    "heart = pd.get_dummies(heart, columns = ['sex', 'chest_pain', 'blood_sugar', 'restecg', 'exang', 'slope', 'thal'], drop_first=True)"
   ]
  },
  {
   "cell_type": "code",
   "execution_count": 42,
   "id": "df17f6b4",
   "metadata": {},
   "outputs": [],
   "source": [
    "# Seperating features from target labels\n",
    "labels = heart['target']\n",
    "features = heart.drop(['target'], axis = 1)"
   ]
  },
  {
   "cell_type": "code",
   "execution_count": 43,
   "id": "562d8cd7",
   "metadata": {},
   "outputs": [
    {
     "data": {
      "text/html": [
       "<div>\n",
       "<style scoped>\n",
       "    .dataframe tbody tr th:only-of-type {\n",
       "        vertical-align: middle;\n",
       "    }\n",
       "\n",
       "    .dataframe tbody tr th {\n",
       "        vertical-align: top;\n",
       "    }\n",
       "\n",
       "    .dataframe thead th {\n",
       "        text-align: right;\n",
       "    }\n",
       "</style>\n",
       "<table border=\"1\" class=\"dataframe\">\n",
       "  <thead>\n",
       "    <tr style=\"text-align: right;\">\n",
       "      <th></th>\n",
       "      <th>age</th>\n",
       "      <th>blood_pressure</th>\n",
       "      <th>cholesterol</th>\n",
       "      <th>thalach</th>\n",
       "      <th>oldpeak</th>\n",
       "      <th>vessels</th>\n",
       "      <th>health_status</th>\n",
       "      <th>gender</th>\n",
       "      <th>sex_1</th>\n",
       "      <th>chest_pain_1</th>\n",
       "      <th>...</th>\n",
       "      <th>chest_pain_3</th>\n",
       "      <th>blood_sugar_1</th>\n",
       "      <th>restecg_1</th>\n",
       "      <th>restecg_2</th>\n",
       "      <th>exang_1</th>\n",
       "      <th>slope_1</th>\n",
       "      <th>slope_2</th>\n",
       "      <th>thal_1</th>\n",
       "      <th>thal_2</th>\n",
       "      <th>thal_3</th>\n",
       "    </tr>\n",
       "  </thead>\n",
       "  <tbody>\n",
       "    <tr>\n",
       "      <th>0</th>\n",
       "      <td>0.952197</td>\n",
       "      <td>0.763956</td>\n",
       "      <td>-0.256334</td>\n",
       "      <td>0.015443</td>\n",
       "      <td>1.087338</td>\n",
       "      <td>0</td>\n",
       "      <td>1</td>\n",
       "      <td>1</td>\n",
       "      <td>1</td>\n",
       "      <td>0</td>\n",
       "      <td>...</td>\n",
       "      <td>1</td>\n",
       "      <td>1</td>\n",
       "      <td>0</td>\n",
       "      <td>0</td>\n",
       "      <td>0</td>\n",
       "      <td>0</td>\n",
       "      <td>0</td>\n",
       "      <td>1</td>\n",
       "      <td>0</td>\n",
       "      <td>0</td>\n",
       "    </tr>\n",
       "    <tr>\n",
       "      <th>1</th>\n",
       "      <td>-1.915313</td>\n",
       "      <td>-0.092738</td>\n",
       "      <td>0.072199</td>\n",
       "      <td>1.633471</td>\n",
       "      <td>2.122573</td>\n",
       "      <td>0</td>\n",
       "      <td>1</td>\n",
       "      <td>1</td>\n",
       "      <td>1</td>\n",
       "      <td>0</td>\n",
       "      <td>...</td>\n",
       "      <td>0</td>\n",
       "      <td>0</td>\n",
       "      <td>1</td>\n",
       "      <td>0</td>\n",
       "      <td>0</td>\n",
       "      <td>0</td>\n",
       "      <td>0</td>\n",
       "      <td>0</td>\n",
       "      <td>1</td>\n",
       "      <td>0</td>\n",
       "    </tr>\n",
       "    <tr>\n",
       "      <th>2</th>\n",
       "      <td>-1.474158</td>\n",
       "      <td>-0.092738</td>\n",
       "      <td>-0.816773</td>\n",
       "      <td>0.977514</td>\n",
       "      <td>0.310912</td>\n",
       "      <td>0</td>\n",
       "      <td>1</td>\n",
       "      <td>0</td>\n",
       "      <td>0</td>\n",
       "      <td>1</td>\n",
       "      <td>...</td>\n",
       "      <td>0</td>\n",
       "      <td>0</td>\n",
       "      <td>0</td>\n",
       "      <td>0</td>\n",
       "      <td>0</td>\n",
       "      <td>0</td>\n",
       "      <td>1</td>\n",
       "      <td>0</td>\n",
       "      <td>1</td>\n",
       "      <td>0</td>\n",
       "    </tr>\n",
       "    <tr>\n",
       "      <th>3</th>\n",
       "      <td>0.180175</td>\n",
       "      <td>-0.663867</td>\n",
       "      <td>-0.198357</td>\n",
       "      <td>1.239897</td>\n",
       "      <td>-0.206705</td>\n",
       "      <td>0</td>\n",
       "      <td>1</td>\n",
       "      <td>1</td>\n",
       "      <td>1</td>\n",
       "      <td>1</td>\n",
       "      <td>...</td>\n",
       "      <td>0</td>\n",
       "      <td>0</td>\n",
       "      <td>1</td>\n",
       "      <td>0</td>\n",
       "      <td>0</td>\n",
       "      <td>0</td>\n",
       "      <td>1</td>\n",
       "      <td>0</td>\n",
       "      <td>1</td>\n",
       "      <td>0</td>\n",
       "    </tr>\n",
       "    <tr>\n",
       "      <th>4</th>\n",
       "      <td>0.290464</td>\n",
       "      <td>-0.663867</td>\n",
       "      <td>2.082050</td>\n",
       "      <td>0.583939</td>\n",
       "      <td>-0.379244</td>\n",
       "      <td>0</td>\n",
       "      <td>1</td>\n",
       "      <td>0</td>\n",
       "      <td>0</td>\n",
       "      <td>0</td>\n",
       "      <td>...</td>\n",
       "      <td>0</td>\n",
       "      <td>0</td>\n",
       "      <td>1</td>\n",
       "      <td>0</td>\n",
       "      <td>1</td>\n",
       "      <td>0</td>\n",
       "      <td>1</td>\n",
       "      <td>0</td>\n",
       "      <td>1</td>\n",
       "      <td>0</td>\n",
       "    </tr>\n",
       "  </tbody>\n",
       "</table>\n",
       "<p>5 rows × 21 columns</p>\n",
       "</div>"
      ],
      "text/plain": [
       "        age  blood_pressure  cholesterol   thalach   oldpeak  vessels  \\\n",
       "0  0.952197        0.763956    -0.256334  0.015443  1.087338        0   \n",
       "1 -1.915313       -0.092738     0.072199  1.633471  2.122573        0   \n",
       "2 -1.474158       -0.092738    -0.816773  0.977514  0.310912        0   \n",
       "3  0.180175       -0.663867    -0.198357  1.239897 -0.206705        0   \n",
       "4  0.290464       -0.663867     2.082050  0.583939 -0.379244        0   \n",
       "\n",
       "   health_status  gender  sex_1  chest_pain_1  ...  chest_pain_3  \\\n",
       "0              1       1      1             0  ...             1   \n",
       "1              1       1      1             0  ...             0   \n",
       "2              1       0      0             1  ...             0   \n",
       "3              1       1      1             1  ...             0   \n",
       "4              1       0      0             0  ...             0   \n",
       "\n",
       "   blood_sugar_1  restecg_1  restecg_2  exang_1  slope_1  slope_2  thal_1  \\\n",
       "0              1          0          0        0        0        0       1   \n",
       "1              0          1          0        0        0        0       0   \n",
       "2              0          0          0        0        0        1       0   \n",
       "3              0          1          0        0        0        1       0   \n",
       "4              0          1          0        1        0        1       0   \n",
       "\n",
       "   thal_2  thal_3  \n",
       "0       0       0  \n",
       "1       1       0  \n",
       "2       1       0  \n",
       "3       1       0  \n",
       "4       1       0  \n",
       "\n",
       "[5 rows x 21 columns]"
      ]
     },
     "execution_count": 43,
     "metadata": {},
     "output_type": "execute_result"
    }
   ],
   "source": [
    "features.head()"
   ]
  },
  {
   "cell_type": "code",
   "execution_count": 44,
   "id": "73732e7e",
   "metadata": {},
   "outputs": [],
   "source": [
    "heart['health_status'] = [1 if x == \"sick\" else 0 for x in heart['health_status']]"
   ]
  },
  {
   "cell_type": "code",
   "execution_count": 45,
   "id": "a2576b8e",
   "metadata": {},
   "outputs": [],
   "source": [
    "# Splitting data into training set and testing set\n",
    "features_train , features_test, labels_train, labels_test = train_test_split(features, labels, test_size= 0.2, random_state=42)"
   ]
  },
  {
   "cell_type": "code",
   "execution_count": 46,
   "id": "bef6d082",
   "metadata": {
    "scrolled": true
   },
   "outputs": [
    {
     "name": "stdout",
     "output_type": "stream",
     "text": [
      "<class 'pandas.core.frame.DataFrame'>\n",
      "RangeIndex: 303 entries, 0 to 302\n",
      "Data columns (total 22 columns):\n",
      " #   Column          Non-Null Count  Dtype  \n",
      "---  ------          --------------  -----  \n",
      " 0   age             303 non-null    float64\n",
      " 1   blood_pressure  303 non-null    float64\n",
      " 2   cholesterol     303 non-null    float64\n",
      " 3   thalach         303 non-null    float64\n",
      " 4   oldpeak         303 non-null    float64\n",
      " 5   vessels         303 non-null    int64  \n",
      " 6   target          303 non-null    int64  \n",
      " 7   health_status   303 non-null    int64  \n",
      " 8   gender          303 non-null    int64  \n",
      " 9   sex_1           303 non-null    uint8  \n",
      " 10  chest_pain_1    303 non-null    uint8  \n",
      " 11  chest_pain_2    303 non-null    uint8  \n",
      " 12  chest_pain_3    303 non-null    uint8  \n",
      " 13  blood_sugar_1   303 non-null    uint8  \n",
      " 14  restecg_1       303 non-null    uint8  \n",
      " 15  restecg_2       303 non-null    uint8  \n",
      " 16  exang_1         303 non-null    uint8  \n",
      " 17  slope_1         303 non-null    uint8  \n",
      " 18  slope_2         303 non-null    uint8  \n",
      " 19  thal_1          303 non-null    uint8  \n",
      " 20  thal_2          303 non-null    uint8  \n",
      " 21  thal_3          303 non-null    uint8  \n",
      "dtypes: float64(5), int64(4), uint8(13)\n",
      "memory usage: 25.3 KB\n"
     ]
    }
   ],
   "source": [
    "heart.info()"
   ]
  },
  {
   "cell_type": "code",
   "execution_count": 47,
   "id": "c53b0e79",
   "metadata": {},
   "outputs": [
    {
     "name": "stdout",
     "output_type": "stream",
     "text": [
      "K Nearest Neighbors accuracy is 91.8%\n"
     ]
    }
   ],
   "source": [
    "knn = KNeighborsClassifier(n_neighbors = 3)\n",
    "knn.fit(features_train, labels_train)\n",
    "prediction = knn.predict(features_test)\n",
    "\n",
    "\n",
    "score = round(knn.score(features_test, labels_test), 3) *100\n",
    "print(f\"K Nearest Neighbors accuracy is {score}%\")"
   ]
  },
  {
   "cell_type": "markdown",
   "id": "8200e84b",
   "metadata": {},
   "source": [
    "The K-nearest neighbor algorithm in our model reports an accuracy score of 93.4% indicating that our model can predict the health of a patient with an accuracy level above 90%. Specifically, we are targeting whether an individual has heart disease, demonstrating an angiogram where there's greater than 50% diameter narrowing. In later models, we will explore whether we can improve results through the application of other machine learning techniques. "
   ]
  },
  {
   "cell_type": "markdown",
   "id": "1e3b7213",
   "metadata": {},
   "source": [
    "<b>Finding the optimal K"
   ]
  },
  {
   "cell_type": "code",
   "execution_count": 48,
   "id": "018b8891",
   "metadata": {},
   "outputs": [
    {
     "name": "stdout",
     "output_type": "stream",
     "text": [
      "Max K Nearest Neighbors Accuracy is 93.44%\n",
      "Best K is 9\n"
     ]
    },
    {
     "data": {
      "image/png": "[encoded data removed]",
      "text/plain": [
       "<Figure size 432x288 with 1 Axes>"
      ]
     },
     "metadata": {
      "needs_background": "light"
     },
     "output_type": "display_data"
    }
   ],
   "source": [
    "accuracyScores = []\n",
    "\n",
    "for x in range(1,30):\n",
    "    knn2 = KNeighborsClassifier(n_neighbors = x)\n",
    "    knn2.fit(features_train, labels_train)\n",
    "    accuracyScores.append(knn2.score(features_test, labels_test))\n",
    "    \n",
    "# Plotting distribution of accuracy scores given different K values\n",
    "sns.lineplot(range(1,30), accuracyScores, color=\"gray\")\n",
    "plt.xticks(np.arange(1,30,1))\n",
    "plt.xlabel(\"K value\")\n",
    "plt.ylabel(\"Accuracy Score\")\n",
    "\n",
    "\n",
    "best_k = accuracyScores.index(max(accuracyScores)) + 1\n",
    "max_score = round((max(accuracyScores) * 100), 2) \n",
    "\n",
    "print(f\"Max K Nearest Neighbors Accuracy is {max_score}%\")\n",
    "print(f\"Best K is {best_k}\")"
   ]
  },
  {
   "cell_type": "markdown",
   "id": "f871b40a",
   "metadata": {},
   "source": [
    "<b> When k = 7"
   ]
  },
  {
   "cell_type": "code",
   "execution_count": 49,
   "id": "bc442ce4",
   "metadata": {},
   "outputs": [
    {
     "name": "stdout",
     "output_type": "stream",
     "text": [
      "K Nearest Neighbors accuracy is 90.2%\n"
     ]
    }
   ],
   "source": [
    "knn = KNeighborsClassifier(n_neighbors = 7)\n",
    "knn.fit(features_train, labels_train)\n",
    "prediction = knn.predict(features_test)\n",
    "\n",
    "\n",
    "score = round(knn.score(features_test, labels_test), 3) *100\n",
    "print(f\"K Nearest Neighbors accuracy is {score}%\")"
   ]
  },
  {
   "cell_type": "markdown",
   "id": "4d2093ef",
   "metadata": {},
   "source": [
    "<b> When k = 8"
   ]
  },
  {
   "cell_type": "code",
   "execution_count": 50,
   "id": "4d138ed4",
   "metadata": {},
   "outputs": [
    {
     "name": "stdout",
     "output_type": "stream",
     "text": [
      "K Nearest Neighbors accuracy is 91.8%\n"
     ]
    }
   ],
   "source": [
    "knn = KNeighborsClassifier(n_neighbors = 8)\n",
    "knn.fit(features_train, labels_train)\n",
    "prediction = knn.predict(features_test)\n",
    "\n",
    "\n",
    "score = round(knn.score(features_test, labels_test), 3) *100\n",
    "print(f\"K Nearest Neighbors accuracy is {score}%\")"
   ]
  },
  {
   "cell_type": "markdown",
   "id": "6fc830a7",
   "metadata": {},
   "source": [
    "<b> When k = 9"
   ]
  },
  {
   "cell_type": "code",
   "execution_count": 51,
   "id": "74e1ab5b",
   "metadata": {},
   "outputs": [
    {
     "name": "stdout",
     "output_type": "stream",
     "text": [
      "K Nearest Neighbors accuracy is 93.4%\n"
     ]
    }
   ],
   "source": [
    "knn = KNeighborsClassifier(n_neighbors = 9)\n",
    "knn.fit(features_train, labels_train)\n",
    "prediction = knn.predict(features_test)\n",
    "\n",
    "\n",
    "score = round(knn.score(features_test, labels_test), 3) *100\n",
    "print(f\"K Nearest Neighbors accuracy is {score}%\")"
   ]
  },
  {
   "cell_type": "code",
   "execution_count": 52,
   "id": "0aaf6598",
   "metadata": {},
   "outputs": [
    {
     "data": {
      "text/plain": [
       "Text(0.5, 1.0, 'K Nearest Neighbors: Confusion Matrix')"
      ]
     },
     "execution_count": 52,
     "metadata": {},
     "output_type": "execute_result"
    },
    {
     "data": {
      "image/png": "[encoded data removed]",
      "text/plain": [
       "<Figure size 720x360 with 1 Axes>"
      ]
     },
     "metadata": {
      "needs_background": "light"
     },
     "output_type": "display_data"
    }
   ],
   "source": [
    "labels_predicted = knn.predict(features_test)\n",
    "plt.subplots(figsize=(10,5))\n",
    "\n",
    "conf_mat = confusion_matrix(labels_test, labels_predicted)\n",
    "sns.heatmap(conf_mat, annot=True, fmt='d', cmap='gray', cbar=False, xticklabels=['healthy', 'sick'], yticklabels=['healthy', 'sick'])\n",
    "plt.xlabel('Predicted Values')\n",
    "plt.ylabel('Actual Values')\n",
    "plt.title('K Nearest Neighbors: Confusion Matrix')"
   ]
  },
  {
   "cell_type": "code",
   "execution_count": 53,
   "id": "f9c23a27",
   "metadata": {},
   "outputs": [
    {
     "name": "stdout",
     "output_type": "stream",
     "text": [
      "              precision    recall  f1-score   support\n",
      "\n",
      "     healthy       0.93      0.93      0.93        29\n",
      "        sick       0.94      0.94      0.94        32\n",
      "\n",
      "    accuracy                           0.93        61\n",
      "   macro avg       0.93      0.93      0.93        61\n",
      "weighted avg       0.93      0.93      0.93        61\n",
      "\n"
     ]
    }
   ],
   "source": [
    "print(classification_report(labels_test, labels_predicted, target_names = ['healthy', 'sick']))"
   ]
  },
  {
   "cell_type": "markdown",
   "id": "f984360b",
   "metadata": {},
   "source": [
    "<b> Summary: </b>\n",
    "\n",
    "A valuable insight in the field of healthcare analytics is being able to reproduce research results. In this section we attempt to tackle the question, \"Given a similar study, can we optimize results so that we can drive down marginal cost by streamlining testing?\" Solving this problem allows us to streamline resources as it drives down marginal cost in terms of testing reproducibility. In our specific dataset, we answered the question can we predict whether or not an individual will get a diagnosis of heart failure or not and if so using the KNN algorithm how many data points should be looking at in order to maximize model accuracy. \n",
    "\n",
    "<b> Managerial Insight: </b>\n",
    "\n",
    "Identifying specific values of K that will maximize our accuracy score allows us to eliminate unnecessary sampling and testing practices. In our model, our sample size is 299. Of course getting a greater sample size will allow us to have a more normalized distribution but as we have seen in our model above we are able to fit various sample sizes and maintain model accuracy above the 90% level. Our findings reaffirm that more does not equate to better, because we can use less resources to obtain optimum results. "
   ]
  },
  {
   "cell_type": "markdown",
   "id": "db26c117",
   "metadata": {},
   "source": [
    "## Insight 3: Amongst KNN and Logistic Regression, which model gives allows us to get the greatest predictibility of heart disease for each patient?"
   ]
  },
  {
   "cell_type": "markdown",
   "id": "cac99942",
   "metadata": {},
   "source": [
    "Since our KNN analysis can be found in insight #2, below I will plot our logistic regression machine learning algorithm and compare model accuracy using the prescision score amongst healthy and unhealthy patients. "
   ]
  },
  {
   "cell_type": "code",
   "execution_count": 54,
   "id": "9dbc0888",
   "metadata": {},
   "outputs": [
    {
     "name": "stdout",
     "output_type": "stream",
     "text": [
      "Logistic Regression accuracy is 100.0%\n"
     ]
    }
   ],
   "source": [
    "\n",
    "logisticRegression = LogisticRegression( solver='lbfgs')\n",
    "logisticRegression.fit(features_train,labels_train)\n",
    "logisticRegression.score(features_test,labels_test)\n",
    "\n",
    "\n",
    "score = round(logisticRegression.score(features_test,labels_test), 3) *100\n",
    "print(f\"Logistic Regression accuracy is {score}%\")"
   ]
  },
  {
   "cell_type": "code",
   "execution_count": 55,
   "id": "5b2d557f",
   "metadata": {},
   "outputs": [
    {
     "data": {
      "text/plain": [
       "Text(0.5, 1.0, 'Logistic Regression: Confusion Matrix')"
      ]
     },
     "execution_count": 55,
     "metadata": {},
     "output_type": "execute_result"
    },
    {
     "data": {
      "image/png": "[encoded data removed]",
      "text/plain": [
       "<Figure size 720x360 with 1 Axes>"
      ]
     },
     "metadata": {
      "needs_background": "light"
     },
     "output_type": "display_data"
    }
   ],
   "source": [
    "labels_predicted = logisticRegression.predict(features_test)\n",
    "plt.subplots(figsize=(10,5))\n",
    "\n",
    "conf_mat = confusion_matrix(labels_test, labels_predicted)\n",
    "sns.heatmap(conf_mat, annot=True, fmt='d', cmap='gray', cbar=False, xticklabels=['healthy', 'sick'], yticklabels=['healthy', 'sick'])\n",
    "plt.xlabel('Predicted Values')\n",
    "plt.ylabel('Actual Values')\n",
    "plt.title('Logistic Regression: Confusion Matrix')"
   ]
  },
  {
   "cell_type": "code",
   "execution_count": 56,
   "id": "bf6da471",
   "metadata": {},
   "outputs": [
    {
     "name": "stdout",
     "output_type": "stream",
     "text": [
      "              precision    recall  f1-score   support\n",
      "\n",
      "     healthy       1.00      1.00      1.00        29\n",
      "        sick       1.00      1.00      1.00        32\n",
      "\n",
      "    accuracy                           1.00        61\n",
      "   macro avg       1.00      1.00      1.00        61\n",
      "weighted avg       1.00      1.00      1.00        61\n",
      "\n"
     ]
    }
   ],
   "source": [
    "labels_predicted = logisticRegression.predict(features_test)\n",
    "print(classification_report(labels_test, labels_predicted, target_names = ['healthy', 'sick']))"
   ]
  },
  {
   "cell_type": "markdown",
   "id": "cef20fff",
   "metadata": {},
   "source": [
    "Prescision score for a healthy diagnosis in our logistic regression."
   ]
  },
  {
   "cell_type": "code",
   "execution_count": 57,
   "id": "50878f15",
   "metadata": {},
   "outputs": [
    {
     "name": "stdout",
     "output_type": "stream",
     "text": [
      "The precision score for a healthy diagnosis is 0.91\n"
     ]
    }
   ],
   "source": [
    "precision = (round(29/32, 2))           \n",
    "print(f\"The precision score for a healthy diagnosis is {precision}\")"
   ]
  },
  {
   "cell_type": "markdown",
   "id": "3ca0dc96",
   "metadata": {},
   "source": [
    "Prescision score for a healthy diagnosis in KNN."
   ]
  },
  {
   "cell_type": "code",
   "execution_count": 58,
   "id": "211beb9c",
   "metadata": {},
   "outputs": [
    {
     "name": "stdout",
     "output_type": "stream",
     "text": [
      "The precision score for a healthy diagnosis is 0.9\n"
     ]
    }
   ],
   "source": [
    "precision = (round(27/30, 2))           \n",
    "print(f\"The precision score for a healthy diagnosis is {precision}\")"
   ]
  },
  {
   "cell_type": "markdown",
   "id": "b8204eb2",
   "metadata": {},
   "source": [
    "<b> Summary:</b>\n",
    "\n",
    "A valuable insight in the field of healthcare is being able to predict diseases. Preventative care is the optimal way to avoid chornic diseases such as heart disease. If we are able to diagnose healthy and unhealthy patients it gives us the opportunity to provide best treatment care before symptoms worsen. Our model above allows us to do so with the Logistic Regression machine learning algorithm. In our model above we are able to predict whether or not a patient has heart disease or not with 100% accuracy.  \n",
    "\n",
    "<b> Managerial Insight:</b>\n",
    "\n",
    "Amongst our analysis of the KNN and Logsitic Regression machine learning model, we move forward to use the Logistic Regression machine learning algorithm model as the prescision score in this model is higher than our KNN model. As well as, we get a model accuracy score of 100%. The model overall returns fewer false negatives and minimizes type 2 error within our results. Since medical data is very sensitive, the patient could potentially not receive the medical treatment they need, therefore our second prediction model must be used in practice to avoid issues like these especially since lives are on the line."
   ]
  }
 ],
 "metadata": {
  "kernelspec": {
   "display_name": "Python 3 (ipykernel)",
   "language": "python",
   "name": "python3"
  },
  "language_info": {
   "codemirror_mode": {
    "name": "ipython",
    "version": 3
   },
   "file_extension": ".py",
   "mimetype": "text/x-python",
   "name": "python",
   "nbconvert_exporter": "python",
   "pygments_lexer": "ipython3",
   "version": "3.9.7"
  }
 },
 "nbformat": 4,
 "nbformat_minor": 5
}
